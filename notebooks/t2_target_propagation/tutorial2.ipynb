{
 "cells": [
  {
   "cell_type": "markdown",
   "metadata": {},
   "source": [
    "# Target Propagation - Tutorial 2\n",
    "## Differance Target Propagation\n",
    "\n",
    "Tutorial on an improvement of target propagation that uses the difference between the propagated target and the reconstructed input. Also, will evaluate different learning rates for the output layer."
   ]
  },
  {
   "cell_type": "code",
   "execution_count": null,
   "metadata": {},
   "outputs": [],
   "source": [
    "import initialize"
   ]
  },
  {
   "cell_type": "code",
   "execution_count": null,
   "metadata": {},
   "outputs": [],
   "source": [
    "\n",
    "\n",
    "from torchvision.datasets import FashionMNIST\n",
    "from torchvision import transforms\n",
    "\n",
    "from tools.training import train, classify\n",
    "# from tools.tar.utils.diff_target import DiffTargetPropLearner\n",
    "import torch\n",
    "import torch.nn as nn\n",
    "\n",
    "from tools.training import train, classify\n",
    "from tools.learners.target_prop import DiffConvTargetPropLearner, DiffTargetPropLearner\n"
   ]
  },
  {
   "cell_type": "markdown",
   "metadata": {},
   "source": [
    "# Steps\n",
    "\n",
    "1) Create each layer (Difference AutoencoderLearner)\n",
    "2) Create the DiffTargetPropLearner\n",
    "3) Run the training on the DiffTargetProp learner using varying learning rates"
   ]
  },
  {
   "cell_type": "code",
   "execution_count": null,
   "metadata": {},
   "outputs": [],
   "source": [
    "transform = transforms.Compose(\n",
    "    [transforms.ToTensor(),\n",
    "    transforms.Normalize((0.5,), (0.5,))])\n",
    "\n",
    "\n",
    "training_dataset = FashionMNIST(\n",
    "    '../../Datasets/',\n",
    "    transform=transform, download=True\n",
    ")\n",
    "testing_dataset = FashionMNIST(\n",
    "    '../../Datasets/',\n",
    "    transform=transform, download=True, train=False\n",
    ")\n"
   ]
  },
  {
   "cell_type": "code",
   "execution_count": null,
   "metadata": {},
   "outputs": [],
   "source": [
    "\n",
    "x_lr = 0.1"
   ]
  },
  {
   "cell_type": "code",
   "execution_count": null,
   "metadata": {},
   "outputs": [],
   "source": [
    "# learner = DiffConvTargetPropLearner(\n",
    "#     1, (28, 28), 32, 32, 32, 10, kernel_size=(4, 4), stride=(2, 2), dropout_p=None, x_lr=0.1, out_x_lr=0.1, act=torch.nn.LeakyReLU,\n",
    "#     reverse_act=torch.nn.LeakyReLU\n",
    "# )\n",
    "\n",
    "learner = DiffTargetPropLearner(\n",
    "    784, 300, 300, 300, 10, 1e-1, nn.LeakyReLU, nn.LeakyReLU\n",
    ")\n",
    "\n",
    "# x = torch.rand(4, 1, 28, 28)\n",
    "# learner(x)\n",
    "\n",
    "train(learner, training_dataset, 20, flatten=True)\n",
    "# classify(learner, testing_dataset)"
   ]
  },
  {
   "cell_type": "code",
   "execution_count": null,
   "metadata": {},
   "outputs": [],
   "source": [
    "# Don't propagate back reconstruction loss\n",
    "\n",
    "learner = DiffTargetPropLearner(\n",
    "    784, 300, 300, 300, 10, x_lr=0.5, act=torch.nn.LeakyReLU,\n",
    "    reverse_act=torch.nn.LeakyReLU\n",
    ")\n",
    "\n",
    "training_losses = train(learner, training_dataset, 20)\n",
    "classifications = classify(learner, testing_dataset)\n",
    "print(classifications)"
   ]
  },
  {
   "cell_type": "code",
   "execution_count": null,
   "metadata": {},
   "outputs": [],
   "source": [
    "learner = DiffTargetPropLearner(\n",
    "    784, 300, 300, 300, 10, x_lr=0.1, act=torch.nn.LeakyReLU,\n",
    "    reverse_act=torch.nn.LeakyReLU\n",
    ")\n",
    "\n",
    "training_losses2 = train(learner, training_dataset, 20)\n",
    "classifications2 = classify(learner, testing_dataset)\n",
    "print(classifications2)"
   ]
  },
  {
   "cell_type": "code",
   "execution_count": null,
   "metadata": {},
   "outputs": [],
   "source": []
  },
  {
   "cell_type": "code",
   "execution_count": null,
   "metadata": {},
   "outputs": [],
   "source": [
    "\n"
   ]
  },
  {
   "cell_type": "code",
   "execution_count": null,
   "metadata": {},
   "outputs": [],
   "source": [
    "\n",
    "learner = DiffTargetPropLearner(\n",
    "    784, 300, 300, 300, 10, x_lr=0.5, act=lambda: torch.sign, reverse_act=nn.Sigmoid, targetf=torch.sign\n",
    ")\n",
    "\n",
    "train(learner, training_dataset, 100)"
   ]
  },
  {
   "cell_type": "code",
   "execution_count": null,
   "metadata": {},
   "outputs": [],
   "source": [
    "\n",
    "\n",
    "# learner = DiffTargetPropLearner(\n",
    "#     784, 300, 300, 300, 10, x_lr=x_lr, \n",
    "#     act=torch.nn.LeakyReLU,\n",
    "#     reverse_act=torch.nn.LeakyReLU\n",
    "# )\n",
    "\n",
    "# train(learner, training_dataset, 100)\n",
    "# classify(learner, testing_dataset)\n"
   ]
  }
 ],
 "metadata": {
  "kernelspec": {
   "display_name": "py310torch",
   "language": "python",
   "name": "python3"
  },
  "language_info": {
   "codemirror_mode": {
    "name": "ipython",
    "version": 3
   },
   "file_extension": ".py",
   "mimetype": "text/x-python",
   "name": "python",
   "nbconvert_exporter": "python",
   "pygments_lexer": "ipython3",
   "version": "3.10.5"
  }
 },
 "nbformat": 4,
 "nbformat_minor": 2
}
