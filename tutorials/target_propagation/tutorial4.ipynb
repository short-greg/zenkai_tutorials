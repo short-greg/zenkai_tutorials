{
 "cells": [
  {
   "cell_type": "code",
   "execution_count": null,
   "metadata": {},
   "outputs": [],
   "source": [
    "from torchvision.datasets import FashionMNIST\n",
    "from torchvision import transforms\n",
    "\n",
    "from utils.utils import train, Stochastic\n",
    "from utils.tutorial2_learners import DiffTargetPropLearner2\n",
    "import torch\n",
    "import torch.nn as nn"
   ]
  },
  {
   "cell_type": "code",
   "execution_count": null,
   "metadata": {},
   "outputs": [],
   "source": [
    "transform = transforms.Compose(\n",
    "    [transforms.ToTensor(),\n",
    "    transforms.Normalize((0.5,), (0.5,))])\n",
    "\n",
    "training_dataset = FashionMNIST(\n",
    "    '../../Datasets/',\n",
    "    transform=transform, download=True\n",
    ")"
   ]
  },
  {
   "cell_type": "code",
   "execution_count": null,
   "metadata": {},
   "outputs": [],
   "source": [
    "learner = DiffTargetPropLearner2(\n",
    "    784, 300, 300, 300, 10, x_lr=0.1, out_rec_weight=1.0, rec_weight=0.0, act=torch.nn.Tanh,\n",
    "    reverse_act=torch.nn.Tanh, forward_in_act=lambda :torch.sign,\n",
    ")\n",
    "\n",
    "train(learner, training_dataset, 100)"
   ]
  },
  {
   "cell_type": "code",
   "execution_count": null,
   "metadata": {},
   "outputs": [],
   "source": [
    "learner = DiffTargetPropLearner2(\n",
    "    784, 300, 300, 300, 10, x_lr=0.1, rec_weight=1.0, out_rec_weight=0.0, act=torch.nn.Tanh,\n",
    "    reverse_act=torch.nn.Tanh, forward_in_act=lambda :torch.sign,\n",
    ")\n",
    "\n",
    "train(learner, training_dataset, 100)\n"
   ]
  },
  {
   "cell_type": "code",
   "execution_count": null,
   "metadata": {},
   "outputs": [],
   "source": [
    "learner = DiffTargetPropLearner2(\n",
    "    784, 300, 300, 300, 10, out_rec_weight=0.0, rec_weight=0.0, x_lr=0.1, act=torch.nn.Tanh,\n",
    "    reverse_act=torch.nn.Tanh, forward_in_act=lambda :torch.sign,\n",
    ")\n",
    "\n",
    "train(learner, training_dataset, 100)"
   ]
  }
 ],
 "metadata": {
  "kernelspec": {
   "display_name": "py310torch",
   "language": "python",
   "name": "python3"
  },
  "language_info": {
   "codemirror_mode": {
    "name": "ipython",
    "version": 3
   },
   "file_extension": ".py",
   "mimetype": "text/x-python",
   "name": "python",
   "nbconvert_exporter": "python",
   "pygments_lexer": "ipython3",
   "version": "3.10.5"
  }
 },
 "nbformat": 4,
 "nbformat_minor": 2
}
